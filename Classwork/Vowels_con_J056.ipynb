{
  "nbformat": 4,
  "nbformat_minor": 0,
  "metadata": {
    "colab": {
      "name": "VowelsConsonants_RegularExpressions_J030.ipynb",
      "provenance": [],
      "collapsed_sections": []
    },
    "kernelspec": {
      "name": "python3",
      "display_name": "Python 3"
    }
  },
  "cells": [
    {
      "cell_type": "code",
      "metadata": {
        "id": "_h7ljS2zieYT",
        "colab_type": "code",
        "colab": {}
      },
      "source": [
        "import math\n",
        "import numpy as np\n",
        "import pandas as pd\n",
        "import requests\n",
        "import json\n",
        "import re"
      ],
      "execution_count": 0,
      "outputs": []
    },
    {
      "cell_type": "code",
      "metadata": {
        "id": "zwXmhvweinzi",
        "colab_type": "code",
        "colab": {}
      },
      "source": [
        "mydata = pd.read_json(\"http://snap.stanford.edu/data/amazon/productGraph/categoryFiles/reviews_Office_Products_5.json.gz\", lines = True)"
      ],
      "execution_count": 0,
      "outputs": []
    },
    {
      "cell_type": "code",
      "metadata": {
        "id": "oqo4NJ5IiqS1",
        "colab_type": "code",
        "outputId": "a374a6ce-be68-421e-f55a-8667bd4eb8d5",
        "colab": {
          "base_uri": "https://localhost:8080/",
          "height": 289
        }
      },
      "source": [
        "mydata.head()"
      ],
      "execution_count": 0,
      "outputs": [
        {
          "output_type": "execute_result",
          "data": {
            "text/html": [
              "<div>\n",
              "<style scoped>\n",
              "    .dataframe tbody tr th:only-of-type {\n",
              "        vertical-align: middle;\n",
              "    }\n",
              "\n",
              "    .dataframe tbody tr th {\n",
              "        vertical-align: top;\n",
              "    }\n",
              "\n",
              "    .dataframe thead th {\n",
              "        text-align: right;\n",
              "    }\n",
              "</style>\n",
              "<table border=\"1\" class=\"dataframe\">\n",
              "  <thead>\n",
              "    <tr style=\"text-align: right;\">\n",
              "      <th></th>\n",
              "      <th>reviewerID</th>\n",
              "      <th>asin</th>\n",
              "      <th>reviewerName</th>\n",
              "      <th>helpful</th>\n",
              "      <th>reviewText</th>\n",
              "      <th>overall</th>\n",
              "      <th>summary</th>\n",
              "      <th>unixReviewTime</th>\n",
              "      <th>reviewTime</th>\n",
              "    </tr>\n",
              "  </thead>\n",
              "  <tbody>\n",
              "    <tr>\n",
              "      <th>0</th>\n",
              "      <td>A32T2H8150OJLU</td>\n",
              "      <td>B00000JBLH</td>\n",
              "      <td>ARH</td>\n",
              "      <td>[3, 4]</td>\n",
              "      <td>I bought my first HP12C in about 1984 or so, a...</td>\n",
              "      <td>5</td>\n",
              "      <td>A solid performer, and long time friend</td>\n",
              "      <td>1094169600</td>\n",
              "      <td>09 3, 2004</td>\n",
              "    </tr>\n",
              "    <tr>\n",
              "      <th>1</th>\n",
              "      <td>A3MAFS04ZABRGO</td>\n",
              "      <td>B00000JBLH</td>\n",
              "      <td>Let it Be \"Alan\"</td>\n",
              "      <td>[7, 9]</td>\n",
              "      <td>WHY THIS BELATED REVIEW? I feel very obliged t...</td>\n",
              "      <td>5</td>\n",
              "      <td>Price of GOLD is up, so don't bury the golden ...</td>\n",
              "      <td>1197676800</td>\n",
              "      <td>12 15, 2007</td>\n",
              "    </tr>\n",
              "    <tr>\n",
              "      <th>2</th>\n",
              "      <td>A1F1A0QQP2XVH5</td>\n",
              "      <td>B00000JBLH</td>\n",
              "      <td>Mark B</td>\n",
              "      <td>[3, 3]</td>\n",
              "      <td>I have an HP 48GX that has been kicking for mo...</td>\n",
              "      <td>2</td>\n",
              "      <td>Good functionality, but not durable like old HPs</td>\n",
              "      <td>1293840000</td>\n",
              "      <td>01 1, 2011</td>\n",
              "    </tr>\n",
              "    <tr>\n",
              "      <th>3</th>\n",
              "      <td>A49R5DBXXQDE5</td>\n",
              "      <td>B00000JBLH</td>\n",
              "      <td>R. D Johnson</td>\n",
              "      <td>[7, 8]</td>\n",
              "      <td>I've started doing more finance stuff recently...</td>\n",
              "      <td>5</td>\n",
              "      <td>One of the last of an almost extinct species</td>\n",
              "      <td>1145404800</td>\n",
              "      <td>04 19, 2006</td>\n",
              "    </tr>\n",
              "    <tr>\n",
              "      <th>4</th>\n",
              "      <td>A2XRMQA6PJ5ZJ8</td>\n",
              "      <td>B00000JBLH</td>\n",
              "      <td>Roger J. Buffington</td>\n",
              "      <td>[0, 0]</td>\n",
              "      <td>For simple calculations and discounted cash fl...</td>\n",
              "      <td>5</td>\n",
              "      <td>Still the best</td>\n",
              "      <td>1375574400</td>\n",
              "      <td>08 4, 2013</td>\n",
              "    </tr>\n",
              "  </tbody>\n",
              "</table>\n",
              "</div>"
            ],
            "text/plain": [
              "       reviewerID        asin  ... unixReviewTime   reviewTime\n",
              "0  A32T2H8150OJLU  B00000JBLH  ...     1094169600   09 3, 2004\n",
              "1  A3MAFS04ZABRGO  B00000JBLH  ...     1197676800  12 15, 2007\n",
              "2  A1F1A0QQP2XVH5  B00000JBLH  ...     1293840000   01 1, 2011\n",
              "3   A49R5DBXXQDE5  B00000JBLH  ...     1145404800  04 19, 2006\n",
              "4  A2XRMQA6PJ5ZJ8  B00000JBLH  ...     1375574400   08 4, 2013\n",
              "\n",
              "[5 rows x 9 columns]"
            ]
          },
          "metadata": {
            "tags": []
          },
          "execution_count": 3
        }
      ]
    },
    {
      "cell_type": "code",
      "metadata": {
        "id": "yCQJhfiaitU_",
        "colab_type": "code",
        "colab": {}
      },
      "source": [
        "mydata[\"reviewText1\"] = mydata[\"reviewText\"].str.lower()"
      ],
      "execution_count": 0,
      "outputs": []
    },
    {
      "cell_type": "code",
      "metadata": {
        "id": "acW-q9rhjCGL",
        "colab_type": "code",
        "colab": {}
      },
      "source": [
        "def myfunc(a):\n",
        "  words = a.split()\n",
        "  word_count = len(words)\n",
        "  letters = list(a)\n",
        "  letters = list(filter(lambda x:x, map(lambda x:re.sub(r'[^A-Za-z]', '', x), letters)))\n",
        "  vowel_count = 0\n",
        "  consonant_count = 0\n",
        "  vowels = ['a','e','i','o','u']\n",
        "  for letter in letters:\n",
        "    if letter in vowels:\n",
        "      vowel_count += 1\n",
        "    else:\n",
        "      consonant_count += 1\n",
        "  mydict = dict()\n",
        "  mydict[\"Word Count\"] = word_count\n",
        "  mydict[\"Vowel Count\"] = vowel_count\n",
        "  mydict[\"Consonant Count\"] = consonant_count\n",
        "  return mydict"
      ],
      "execution_count": 0,
      "outputs": []
    },
    {
      "cell_type": "code",
      "metadata": {
        "id": "BmkxKdZ1kMtb",
        "colab_type": "code",
        "colab": {}
      },
      "source": [
        "mydata[\"reviewText1\"] = mydata[\"reviewText1\"].apply(myfunc)"
      ],
      "execution_count": 0,
      "outputs": []
    },
    {
      "cell_type": "code",
      "metadata": {
        "id": "tN4bvKJVmLs4",
        "colab_type": "code",
        "outputId": "fd592cf0-a5ff-46c6-daed-be97d4412dc2",
        "colab": {
          "base_uri": "https://localhost:8080/",
          "height": 35
        }
      },
      "source": [
        "print(mydata.iloc[0,9])"
      ],
      "execution_count": 0,
      "outputs": [
        {
          "output_type": "stream",
          "text": [
            "{'Word Count': 186, 'Vowel Count': 279, 'Consonant Count': 437}\n"
          ],
          "name": "stdout"
        }
      ]
    },
    {
      "cell_type": "code",
      "metadata": {
        "id": "t9I03hK6ph-p",
        "colab_type": "code",
        "colab": {}
      },
      "source": [
        "# def myfunc1(a):\n",
        "#   words = a.split()\n",
        "#   word_count = len(words)\n",
        "#   letters = list(a)\n",
        "#   letters = list(filter(lambda x:x, map(lambda x:re.sub(r'[^A-Za-z]', '', x), letters)))\n",
        "#   vowel_count = 0\n",
        "#   consonant_count = 0\n",
        "#   vowels = ['a','e','i','o','u']\n",
        "#   for letter in letters:\n",
        "#     if letter in vowels:\n",
        "#       vowel_count += 1\n",
        "#     else:\n",
        "#       consonant_count += 1\n",
        "#   mydict = dict()\n",
        "#   mydict[\"Word Count\"] = word_count\n",
        "#   mydict[\"Vowel Count\"] = vowel_count\n",
        "#   mydict[\"Consonant Count\"] = consonant_count\n",
        "#   return mydict, letters, words"
      ],
      "execution_count": 0,
      "outputs": []
    },
    {
      "cell_type": "code",
      "metadata": {
        "id": "m3EIgwVRq2ZB",
        "colab_type": "code",
        "colab": {}
      },
      "source": [
        "# myfunc1(\"hi, i have a complaint about the product i just bought! it's highly damaged and i want to return it.\")"
      ],
      "execution_count": 0,
      "outputs": []
    },
    {
      "cell_type": "code",
      "metadata": {
        "id": "X10hAFy8i5ZW",
        "colab_type": "code",
        "colab": {}
      },
      "source": [
        "def start_end(a):\n",
        "  mylist1 = re.findall(r\"\\bb\\w+ | \\w+g\\b\", a)\n",
        "  # mylist2 = re.findall(r'\\b\\w+g\\b', a)\n",
        "  # mylist = mylist1 + mylist2\n",
        "  return list(set(mylist1))"
      ],
      "execution_count": 0,
      "outputs": []
    },
    {
      "cell_type": "code",
      "metadata": {
        "id": "RSNmZNvNjAQ7",
        "colab_type": "code",
        "colab": {}
      },
      "source": [
        "mydata[\"reviewText1\"] = mydata[\"reviewText\"].str.lower()\n",
        "mydata[\"reviewText1\"] = mydata[\"reviewText1\"].apply(start_end)"
      ],
      "execution_count": 0,
      "outputs": []
    },
    {
      "cell_type": "code",
      "metadata": {
        "id": "7oXlkR1KjATw",
        "colab_type": "code",
        "outputId": "6774f26f-1f44-46ca-93f2-8c55cb0d0a7f",
        "colab": {
          "base_uri": "https://localhost:8080/",
          "height": 35
        }
      },
      "source": [
        "print(mydata.iloc[0,9])"
      ],
      "execution_count": 0,
      "outputs": [
        {
          "output_type": "stream",
          "text": [
            "[' running', 'by ', ' 49g', 'buy ', ' travelling', 'be ', 'basic ', 'business ', ' coming', 'but ', ' looking', 'back ', 'batteries ', 'bought ']\n"
          ],
          "name": "stdout"
        }
      ]
    },
    {
      "cell_type": "code",
      "metadata": {
        "id": "G5QCGlfLjJek",
        "colab_type": "code",
        "colab": {}
      },
      "source": [
        ""
      ],
      "execution_count": 0,
      "outputs": []
    }
  ]
}