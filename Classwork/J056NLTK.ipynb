{
 "cells": [
  {
   "cell_type": "code",
   "execution_count": 0,
   "metadata": {
    "id": "DFOy_D-8Bniv",
    "colab_type": "code",
    "outputId": "a385ba43-dd46-4c78-f905-842ee0c34ade",
    "colab": {
     "base_uri": "https://localhost:8080/",
     "height": 173.0
    }
   },
   "outputs": [
    {
     "name": "stdout",
     "output_type": "stream",
     "text": [
      "[nltk_data] Downloading package punkt to /root/nltk_data...\n",
      "[nltk_data]   Package punkt is already up-to-date!\n",
      "[nltk_data] Downloading package wordnet to /root/nltk_data...\n",
      "[nltk_data]   Package wordnet is already up-to-date!\n",
      "[nltk_data] Downloading package averaged_perceptron_tagger to\n",
      "[nltk_data]     /root/nltk_data...\n",
      "[nltk_data]   Package averaged_perceptron_tagger is already up-to-\n",
      "[nltk_data]       date!\n"
     ]
    },
    {
     "data": {
      "text/plain": [
       "True"
      ]
     },
     "execution_count": 2,
     "metadata": {
      "tags": []
     },
     "output_type": "execute_result"
    }
   ],
   "source": [
    "import math\n",
    "import numpy as np\n",
    "import pandas as pd\n",
    "import requests\n",
    "import json\n",
    "import re\n",
    "import nltk\n",
    "from nltk.tokenize import word_tokenize, MWETokenizer\n",
    "from nltk.stem import WordNetLemmatizer\n",
    "nltk.download('punkt')\n",
    "nltk.download('wordnet')\n",
    "nltk.download('averaged_perceptron_tagger')\n",
    "# nltk.download('all')"
   ]
  },
  {
   "cell_type": "code",
   "execution_count": 0,
   "metadata": {
    "id": "wawmo5nS51sz",
    "colab_type": "code",
    "colab": {}
   },
   "outputs": [],
   "source": [
    "mydata = pd.read_json(\"http://snap.stanford.edu/data/amazon/productGraph/categoryFiles/reviews_Office_Products_5.json.gz\", lines = True)"
   ]
  },
  {
   "cell_type": "code",
   "execution_count": 0,
   "metadata": {
    "id": "bXaxvtF387z0",
    "colab_type": "code",
    "colab": {}
   },
   "outputs": [],
   "source": [
    "mydata = pd.DataFrame(mydata.iloc[:10,4])"
   ]
  },
  {
   "cell_type": "code",
   "execution_count": 0,
   "metadata": {
    "id": "QNhKrhde53vm",
    "colab_type": "code",
    "outputId": "0d4e72ae-8b9c-4659-bf8d-5ef94148c763",
    "colab": {
     "base_uri": "https://localhost:8080/",
     "height": 202.0
    }
   },
   "outputs": [
    {
     "data": {
      "text/html": [
       "<div>\n",
       "<style scoped>\n",
       "    .dataframe tbody tr th:only-of-type {\n",
       "        vertical-align: middle;\n",
       "    }\n",
       "\n",
       "    .dataframe tbody tr th {\n",
       "        vertical-align: top;\n",
       "    }\n",
       "\n",
       "    .dataframe thead th {\n",
       "        text-align: right;\n",
       "    }\n",
       "</style>\n",
       "<table border=\"1\" class=\"dataframe\">\n",
       "  <thead>\n",
       "    <tr style=\"text-align: right;\">\n",
       "      <th></th>\n",
       "      <th>reviewText</th>\n",
       "    </tr>\n",
       "  </thead>\n",
       "  <tbody>\n",
       "    <tr>\n",
       "      <th>0</th>\n",
       "      <td>I bought my first HP12C in about 1984 or so, a...</td>\n",
       "    </tr>\n",
       "    <tr>\n",
       "      <th>1</th>\n",
       "      <td>WHY THIS BELATED REVIEW? I feel very obliged t...</td>\n",
       "    </tr>\n",
       "    <tr>\n",
       "      <th>2</th>\n",
       "      <td>I have an HP 48GX that has been kicking for mo...</td>\n",
       "    </tr>\n",
       "    <tr>\n",
       "      <th>3</th>\n",
       "      <td>I've started doing more finance stuff recently...</td>\n",
       "    </tr>\n",
       "    <tr>\n",
       "      <th>4</th>\n",
       "      <td>For simple calculations and discounted cash fl...</td>\n",
       "    </tr>\n",
       "  </tbody>\n",
       "</table>\n",
       "</div>"
      ],
      "text/plain": [
       "                                          reviewText\n",
       "0  I bought my first HP12C in about 1984 or so, a...\n",
       "1  WHY THIS BELATED REVIEW? I feel very obliged t...\n",
       "2  I have an HP 48GX that has been kicking for mo...\n",
       "3  I've started doing more finance stuff recently...\n",
       "4  For simple calculations and discounted cash fl..."
      ]
     },
     "execution_count": 5,
     "metadata": {
      "tags": []
     },
     "output_type": "execute_result"
    }
   ],
   "source": [
    "mydata.head()"
   ]
  },
  {
   "cell_type": "code",
   "execution_count": 0,
   "metadata": {
    "id": "uppbz3VN7Ceb",
    "colab_type": "code",
    "colab": {}
   },
   "outputs": [],
   "source": [
    "def wordtoken(string):\n",
    "\n",
    "  # Tokens using NLTK\n",
    "  words = word_tokenize(string)\n",
    "\n",
    "  # Tokens using MWE Tokenizer\n",
    "  mwe = MWETokenizer()\n",
    "  mwetoken = mwe.tokenize(string.split())\n",
    "\n",
    "  # Parts of Speech\n",
    "  pos = nltk.pos_tag(words)\n",
    "\n",
    "  # Root Words\n",
    "  lem = WordNetLemmatizer()\n",
    "  roots = ' '.join([lem.lemmatize(word, 'v') for word in string.split()])\n",
    "\n",
    "  # Adjectives\n",
    "  adj = []\n",
    "  for i in pos:\n",
    "    if i[1][:2] == 'JJ':\n",
    "      adj.append(i)\n",
    "\n",
    "  # Returning Dictionary\n",
    "  mydict = dict()\n",
    "  mydict[\"words\"] = words\n",
    "  mydict[\"mwe words\"] = mwetoken\n",
    "  mydict[\"POS\"] = pos\n",
    "  mydict[\"root words\"] = roots\n",
    "  mydict[\"adjectives\"] = adj\n",
    "\n",
    "  return mydict"
   ]
  },
  {
   "cell_type": "code",
   "execution_count": 0,
   "metadata": {
    "id": "9O--Xxa3BMu9",
    "colab_type": "code",
    "colab": {}
   },
   "outputs": [],
   "source": [
    "mydata[\"word_tokenizer\"] = mydata[\"reviewText\"].apply(wordtoken)"
   ]
  },
  {
   "cell_type": "code",
   "execution_count": 0,
   "metadata": {
    "id": "J6M_q1Rk8rs5",
    "colab_type": "code",
    "outputId": "c3c122bd-f4f5-446e-975a-e8d45a4b3935",
    "colab": {
     "base_uri": "https://localhost:8080/",
     "height": 202.0
    }
   },
   "outputs": [
    {
     "data": {
      "text/html": [
       "<div>\n",
       "<style scoped>\n",
       "    .dataframe tbody tr th:only-of-type {\n",
       "        vertical-align: middle;\n",
       "    }\n",
       "\n",
       "    .dataframe tbody tr th {\n",
       "        vertical-align: top;\n",
       "    }\n",
       "\n",
       "    .dataframe thead th {\n",
       "        text-align: right;\n",
       "    }\n",
       "</style>\n",
       "<table border=\"1\" class=\"dataframe\">\n",
       "  <thead>\n",
       "    <tr style=\"text-align: right;\">\n",
       "      <th></th>\n",
       "      <th>reviewText</th>\n",
       "      <th>word_tokenizer</th>\n",
       "    </tr>\n",
       "  </thead>\n",
       "  <tbody>\n",
       "    <tr>\n",
       "      <th>0</th>\n",
       "      <td>I bought my first HP12C in about 1984 or so, a...</td>\n",
       "      <td>{'words': ['I', 'bought', 'my', 'first', 'HP12...</td>\n",
       "    </tr>\n",
       "    <tr>\n",
       "      <th>1</th>\n",
       "      <td>WHY THIS BELATED REVIEW? I feel very obliged t...</td>\n",
       "      <td>{'words': ['WHY', 'THIS', 'BELATED', 'REVIEW',...</td>\n",
       "    </tr>\n",
       "    <tr>\n",
       "      <th>2</th>\n",
       "      <td>I have an HP 48GX that has been kicking for mo...</td>\n",
       "      <td>{'words': ['I', 'have', 'an', 'HP', '48GX', 't...</td>\n",
       "    </tr>\n",
       "    <tr>\n",
       "      <th>3</th>\n",
       "      <td>I've started doing more finance stuff recently...</td>\n",
       "      <td>{'words': ['I', ''ve', 'started', 'doing', 'mo...</td>\n",
       "    </tr>\n",
       "    <tr>\n",
       "      <th>4</th>\n",
       "      <td>For simple calculations and discounted cash fl...</td>\n",
       "      <td>{'words': ['For', 'simple', 'calculations', 'a...</td>\n",
       "    </tr>\n",
       "  </tbody>\n",
       "</table>\n",
       "</div>"
      ],
      "text/plain": [
       "                                          reviewText                                     word_tokenizer\n",
       "0  I bought my first HP12C in about 1984 or so, a...  {'words': ['I', 'bought', 'my', 'first', 'HP12...\n",
       "1  WHY THIS BELATED REVIEW? I feel very obliged t...  {'words': ['WHY', 'THIS', 'BELATED', 'REVIEW',...\n",
       "2  I have an HP 48GX that has been kicking for mo...  {'words': ['I', 'have', 'an', 'HP', '48GX', 't...\n",
       "3  I've started doing more finance stuff recently...  {'words': ['I', ''ve', 'started', 'doing', 'mo...\n",
       "4  For simple calculations and discounted cash fl...  {'words': ['For', 'simple', 'calculations', 'a..."
      ]
     },
     "execution_count": 8,
     "metadata": {
      "tags": []
     },
     "output_type": "execute_result"
    }
   ],
   "source": [
    "mydata.head()"
   ]
  },
  {
   "cell_type": "code",
   "execution_count": 0,
   "metadata": {
    "id": "HWzDYXDi7KRP",
    "colab_type": "code",
    "outputId": "881e6bf3-3644-4887-f0ab-7d16164b9348",
    "colab": {
     "base_uri": "https://localhost:8080/",
     "height": 55.0
    }
   },
   "outputs": [
    {
     "name": "stdout",
     "output_type": "stream",
     "text": [
      "{'words': ['I', 'bought', 'my', 'first', 'HP12C', 'in', 'about', '1984', 'or', 'so', ',', 'and', 'it', 'served', 'me', 'faithfully', 'until', '2002', 'when', 'I', 'lost', 'it', 'while', 'travelling', '.', 'I', 'searched', 'for', 'another', 'one', 'to', 'replace', 'it', ',', 'but', 'found', 'one', 'difficult', 'to', 'come', 'by', 'in', 'my', 'area', '.', 'So', ',', 'I', 'decided', 'to', 'buy', 'up', 'and', 'purchased', 'an', 'HP', '49G', '.', 'What', 'a', 'mistake', '!', 'I', 'know', 'that', 'many', 'people', 'view', 'the', 'HP', '49G', '(', 'now', '49G+', ')', 'as', 'the', 'flagship', 'of', 'the', 'HP', 'line', ',', 'but', 'for', 'me', 'that', 'was', 'a', 'disaster.The', '49G', 'may', 'be', 'powerful', ',', 'but', 'using', 'it', 'is', 'extremely', 'counterintuitive', '...', 'and', 'the', 'manual', 'was', 'sketchy', 'at', 'best', '.', 'The', '12C', ',', 'on', 'the', 'other', 'hand', ',', 'does', 'what', 'I', 'need', 'in', 'a', 'way', 'that', 'makes', 'good', 'sense', 'to', 'me.If', 'you', 'are', 'looking', 'for', 'a', 'solid', ',', 'reliable', 'calculator', ',', 'the', 'HP12C', 'may', 'be', 'for', 'you', '.', 'It', \"'s\", 'programmable', '.', 'It', 'does', 'basic', 'statistics', 'well', ',', 'and', 'many', 'business', 'applications', 'too', '.', 'The', 'manual', 'makes', 'sense', ';', 'you', 'will', 'be', 'up', 'and', 'running', 'in', 'short', 'order.I', \"'m\", 'ready', 'to', 'set', 'my', '49G', 'aside', 'and', 'move', 'back', 'to', 'my', 'old', 'friend', '.', 'I', 'did', \"n't\", 'even', 'have', 'to', 'replace', 'the', 'batteries', 'in', 'well', 'over', 'a', 'decade', 'of', 'use', '!', 'HP', '12C', ',', 'I', \"'m\", 'coming', 'home', '!'], 'mwe words': ['I', 'bought', 'my', 'first', 'HP12C', 'in', 'about', '1984', 'or', 'so,', 'and', 'it', 'served', 'me', 'faithfully', 'until', '2002', 'when', 'I', 'lost', 'it', 'while', 'travelling.', 'I', 'searched', 'for', 'another', 'one', 'to', 'replace', 'it,', 'but', 'found', 'one', 'difficult', 'to', 'come', 'by', 'in', 'my', 'area.', 'So,', 'I', 'decided', 'to', 'buy', 'up', 'and', 'purchased', 'an', 'HP', '49G.', 'What', 'a', 'mistake!', 'I', 'know', 'that', 'many', 'people', 'view', 'the', 'HP', '49G', '(now', '49G+)', 'as', 'the', 'flagship', 'of', 'the', 'HP', 'line,', 'but', 'for', 'me', 'that', 'was', 'a', 'disaster.The', '49G', 'may', 'be', 'powerful,', 'but', 'using', 'it', 'is', 'extremely', 'counterintuitive...and', 'the', 'manual', 'was', 'sketchy', 'at', 'best.', 'The', '12C,', 'on', 'the', 'other', 'hand,', 'does', 'what', 'I', 'need', 'in', 'a', 'way', 'that', 'makes', 'good', 'sense', 'to', 'me.If', 'you', 'are', 'looking', 'for', 'a', 'solid,', 'reliable', 'calculator,', 'the', 'HP12C', 'may', 'be', 'for', 'you.', \"It's\", 'programmable.', 'It', 'does', 'basic', 'statistics', 'well,', 'and', 'many', 'business', 'applications', 'too.', 'The', 'manual', 'makes', 'sense;', 'you', 'will', 'be', 'up', 'and', 'running', 'in', 'short', \"order.I'm\", 'ready', 'to', 'set', 'my', '49G', 'aside', 'and', 'move', 'back', 'to', 'my', 'old', 'friend.', 'I', \"didn't\", 'even', 'have', 'to', 'replace', 'the', 'batteries', 'in', 'well', 'over', 'a', 'decade', 'of', 'use!HP', '12C,', \"I'm\", 'coming', 'home!'], 'POS': [('I', 'PRP'), ('bought', 'VBD'), ('my', 'PRP$'), ('first', 'JJ'), ('HP12C', 'NNP'), ('in', 'IN'), ('about', 'RB'), ('1984', 'CD'), ('or', 'CC'), ('so', 'RB'), (',', ','), ('and', 'CC'), ('it', 'PRP'), ('served', 'VBD'), ('me', 'PRP'), ('faithfully', 'RB'), ('until', 'IN'), ('2002', 'CD'), ('when', 'WRB'), ('I', 'PRP'), ('lost', 'VBD'), ('it', 'PRP'), ('while', 'IN'), ('travelling', 'VBG'), ('.', '.'), ('I', 'PRP'), ('searched', 'VBD'), ('for', 'IN'), ('another', 'DT'), ('one', 'CD'), ('to', 'TO'), ('replace', 'VB'), ('it', 'PRP'), (',', ','), ('but', 'CC'), ('found', 'VBD'), ('one', 'CD'), ('difficult', 'JJ'), ('to', 'TO'), ('come', 'VB'), ('by', 'IN'), ('in', 'IN'), ('my', 'PRP$'), ('area', 'NN'), ('.', '.'), ('So', 'RB'), (',', ','), ('I', 'PRP'), ('decided', 'VBD'), ('to', 'TO'), ('buy', 'VB'), ('up', 'RP'), ('and', 'CC'), ('purchased', 'VBD'), ('an', 'DT'), ('HP', 'NNP'), ('49G', 'CD'), ('.', '.'), ('What', 'WP'), ('a', 'DT'), ('mistake', 'NN'), ('!', '.'), ('I', 'PRP'), ('know', 'VBP'), ('that', 'IN'), ('many', 'JJ'), ('people', 'NNS'), ('view', 'VBP'), ('the', 'DT'), ('HP', 'NNP'), ('49G', 'CD'), ('(', '('), ('now', 'RB'), ('49G+', 'CD'), (')', ')'), ('as', 'IN'), ('the', 'DT'), ('flagship', 'NN'), ('of', 'IN'), ('the', 'DT'), ('HP', 'NNP'), ('line', 'NN'), (',', ','), ('but', 'CC'), ('for', 'IN'), ('me', 'PRP'), ('that', 'DT'), ('was', 'VBD'), ('a', 'DT'), ('disaster.The', 'JJ'), ('49G', 'CD'), ('may', 'MD'), ('be', 'VB'), ('powerful', 'JJ'), (',', ','), ('but', 'CC'), ('using', 'VBG'), ('it', 'PRP'), ('is', 'VBZ'), ('extremely', 'RB'), ('counterintuitive', 'JJ'), ('...', ':'), ('and', 'CC'), ('the', 'DT'), ('manual', 'NN'), ('was', 'VBD'), ('sketchy', 'VBN'), ('at', 'IN'), ('best', 'JJS'), ('.', '.'), ('The', 'DT'), ('12C', 'CD'), (',', ','), ('on', 'IN'), ('the', 'DT'), ('other', 'JJ'), ('hand', 'NN'), (',', ','), ('does', 'VBZ'), ('what', 'WP'), ('I', 'PRP'), ('need', 'VBP'), ('in', 'IN'), ('a', 'DT'), ('way', 'NN'), ('that', 'WDT'), ('makes', 'VBZ'), ('good', 'JJ'), ('sense', 'NN'), ('to', 'TO'), ('me.If', 'VB'), ('you', 'PRP'), ('are', 'VBP'), ('looking', 'VBG'), ('for', 'IN'), ('a', 'DT'), ('solid', 'JJ'), (',', ','), ('reliable', 'JJ'), ('calculator', 'NN'), (',', ','), ('the', 'DT'), ('HP12C', 'NNP'), ('may', 'MD'), ('be', 'VB'), ('for', 'IN'), ('you', 'PRP'), ('.', '.'), ('It', 'PRP'), (\"'s\", 'VBZ'), ('programmable', 'JJ'), ('.', '.'), ('It', 'PRP'), ('does', 'VBZ'), ('basic', 'JJ'), ('statistics', 'NNS'), ('well', 'RB'), (',', ','), ('and', 'CC'), ('many', 'JJ'), ('business', 'NN'), ('applications', 'NNS'), ('too', 'RB'), ('.', '.'), ('The', 'DT'), ('manual', 'JJ'), ('makes', 'VBZ'), ('sense', 'NN'), (';', ':'), ('you', 'PRP'), ('will', 'MD'), ('be', 'VB'), ('up', 'RB'), ('and', 'CC'), ('running', 'VBG'), ('in', 'IN'), ('short', 'JJ'), ('order.I', 'NN'), (\"'m\", 'VBP'), ('ready', 'JJ'), ('to', 'TO'), ('set', 'VB'), ('my', 'PRP$'), ('49G', 'CD'), ('aside', 'RB'), ('and', 'CC'), ('move', 'VB'), ('back', 'RB'), ('to', 'TO'), ('my', 'PRP$'), ('old', 'JJ'), ('friend', 'NN'), ('.', '.'), ('I', 'PRP'), ('did', 'VBD'), (\"n't\", 'RB'), ('even', 'RB'), ('have', 'VB'), ('to', 'TO'), ('replace', 'VB'), ('the', 'DT'), ('batteries', 'NNS'), ('in', 'IN'), ('well', 'RB'), ('over', 'IN'), ('a', 'DT'), ('decade', 'NN'), ('of', 'IN'), ('use', 'NN'), ('!', '.'), ('HP', 'NNP'), ('12C', 'CD'), (',', ','), ('I', 'PRP'), (\"'m\", 'VBP'), ('coming', 'VBG'), ('home', 'NN'), ('!', '.')], 'root words': \"I buy my first HP12C in about 1984 or so, and it serve me faithfully until 2002 when I lose it while travelling. I search for another one to replace it, but find one difficult to come by in my area. So, I decide to buy up and purchase an HP 49G. What a mistake! I know that many people view the HP 49G (now 49G+) as the flagship of the HP line, but for me that be a disaster.The 49G may be powerful, but use it be extremely counterintuitive...and the manual be sketchy at best. The 12C, on the other hand, do what I need in a way that make good sense to me.If you be look for a solid, reliable calculator, the HP12C may be for you. It's programmable. It do basic statistics well, and many business applications too. The manual make sense; you will be up and run in short order.I'm ready to set my 49G aside and move back to my old friend. I didn't even have to replace the batteries in well over a decade of use!HP 12C, I'm come home!\", 'adjectives': [('first', 'JJ'), ('difficult', 'JJ'), ('many', 'JJ'), ('disaster.The', 'JJ'), ('powerful', 'JJ'), ('counterintuitive', 'JJ'), ('best', 'JJS'), ('other', 'JJ'), ('good', 'JJ'), ('solid', 'JJ'), ('reliable', 'JJ'), ('programmable', 'JJ'), ('basic', 'JJ'), ('many', 'JJ'), ('manual', 'JJ'), ('short', 'JJ'), ('ready', 'JJ'), ('old', 'JJ')]}\n"
     ]
    }
   ],
   "source": [
    "print(mydata.iloc[0,1])"
   ]
  }
 ],
 "metadata": {
  "colab": {
   "name": "NLTK_J030.ipynb",
   "provenance": [],
   "collapsed_sections": []
  },
  "kernelspec": {
   "name": "python3",
   "display_name": "Python 3"
  }
 },
 "nbformat": 4,
 "nbformat_minor": 0
}
