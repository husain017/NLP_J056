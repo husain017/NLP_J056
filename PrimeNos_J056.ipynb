{
  "nbformat": 4,
  "nbformat_minor": 0,
  "metadata": {
    "colab": {
      "name": "Untitled9.ipynb",
      "provenance": [],
      "include_colab_link": true
    },
    "kernelspec": {
      "name": "python3",
      "display_name": "Python 3"
    }
  },
  "cells": [
    {
      "cell_type": "markdown",
      "metadata": {
        "id": "view-in-github",
        "colab_type": "text"
      },
      "source": [
        "<a href=\"https://colab.research.google.com/github/husain017/NLP_J056/blob/master/PrimeNos_J056.ipynb\" target=\"_parent\"><img src=\"https://colab.research.google.com/assets/colab-badge.svg\" alt=\"Open In Colab\"/></a>"
      ]
    },
    {
      "cell_type": "code",
      "metadata": {
        "id": "JFFpoYJyNEN3",
        "colab_type": "code",
        "colab": {}
      },
      "source": [
        "# importing library\n",
        "import math\n",
        "## Fn to find the nth prime no.\n",
        "def nth_prime_no(n):\n",
        "  if n==1 :\n",
        "    return 2\n",
        "  count = 1\n",
        "  a = 1\n",
        "\n",
        "  while(count < n):\n",
        "    a = a + 2\n",
        "    if isPrime(a):\n",
        "      count += 1\n",
        "\n",
        "  return a\n",
        "  ## Fn to check if a number is prime or not\n",
        "def isPrime(num):\n",
        "  for i in range (2,num//2):\n",
        "    if (num % i == 0):\n",
        "      return False\n",
        "  return True\n",
        "  # Get output for n=5\n",
        "nth_prime_no(4)"
      ],
      "execution_count": 0,
      "outputs": []
    }
  ]
}