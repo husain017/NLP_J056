{
  "nbformat": 4,
  "nbformat_minor": 0,
  "metadata": {
    "colab": {
      "name": "Spacy_J030.ipynb",
      "provenance": [],
      "collapsed_sections": []
    },
    "kernelspec": {
      "name": "python3",
      "display_name": "Python 3"
    }
  },
  "cells": [
    {
      "cell_type": "code",
      "metadata": {
        "id": "Q3srcb3eA7jK",
        "colab_type": "code",
        "colab": {}
      },
      "source": [
        "# Homework"
      ],
      "execution_count": 0,
      "outputs": []
    },
    {
      "cell_type": "code",
      "metadata": {
        "id": "_8u84UwCBIMz",
        "colab_type": "code",
        "colab": {}
      },
      "source": [
        "import math\n",
        "import numpy as np\n",
        "import pandas as pd\n",
        "import requests\n",
        "import json\n",
        "import re\n",
        "import spacy\n",
        "myspacy = spacy.load(\"en\")"
      ],
      "execution_count": 0,
      "outputs": []
    },
    {
      "cell_type": "code",
      "metadata": {
        "id": "mPoBMArjBu2-",
        "colab_type": "code",
        "colab": {}
      },
      "source": [
        "mydata = pd.read_json(\"http://snap.stanford.edu/data/amazon/productGraph/categoryFiles/reviews_Office_Products_5.json.gz\", lines = True)"
      ],
      "execution_count": 0,
      "outputs": []
    },
    {
      "cell_type": "code",
      "metadata": {
        "id": "8bpxJrwaBzFJ",
        "colab_type": "code",
        "colab": {}
      },
      "source": [
        "mydata = mydata.iloc[:10,:]"
      ],
      "execution_count": 0,
      "outputs": []
    },
    {
      "cell_type": "code",
      "metadata": {
        "id": "N_h46hciB05v",
        "colab_type": "code",
        "colab": {}
      },
      "source": [
        "def spacy_pipeline(str):\n",
        "\n",
        "  # Initializing\n",
        "  abc = myspacy(str)\n",
        "  words = []\n",
        "  roots = []\n",
        "  pos = []\n",
        "  dependency = []\n",
        "  noun = []\n",
        "\n",
        "  # Accomodating respective values in list\n",
        "  for x in abc:\n",
        "    words.append(x.text)\n",
        "    roots.append(x.lemma_)\n",
        "    pos.append(x.pos_)\n",
        "    dependency.append(x.dep_)\n",
        "\n",
        "    # Finding out nouns\n",
        "    i = list(zip(words,pos))\n",
        "    if x.tag_.startswith('N'):\n",
        "      noun.append(x)\n",
        "\n",
        "  # Forming a dictionary to return\n",
        "  mydict = {'words':words, 'root_words':roots, 'pos':pos, 'dependency':dependency, 'noun':noun}\n",
        "  return mydict"
      ],
      "execution_count": 0,
      "outputs": []
    },
    {
      "cell_type": "code",
      "metadata": {
        "id": "As4vE36XB59O",
        "colab_type": "code",
        "colab": {}
      },
      "source": [
        "mydata[\"spacy\"] = mydata[\"reviewText\"].apply(spacy_pipeline)"
      ],
      "execution_count": 0,
      "outputs": []
    },
    {
      "cell_type": "code",
      "metadata": {
        "id": "IqAZhz1vB6dl",
        "colab_type": "code",
        "outputId": "c0c26eb0-7241-4ba4-8728-cbce994f837e",
        "colab": {
          "base_uri": "https://localhost:8080/",
          "height": 55
        }
      },
      "source": [
        "print(mydata.iloc[0,9])"
      ],
      "execution_count": 0,
      "outputs": [
        {
          "output_type": "stream",
          "text": [
            "{'words': ['I', 'bought', 'my', 'first', 'HP12C', 'in', 'about', '1984', 'or', 'so', ',', 'and', 'it', 'served', 'me', 'faithfully', 'until', '2002', 'when', 'I', 'lost', 'it', 'while', 'travelling', '.', ' ', 'I', 'searched', 'for', 'another', 'one', 'to', 'replace', 'it', ',', 'but', 'found', 'one', 'difficult', 'to', 'come', 'by', 'in', 'my', 'area', '.', ' ', 'So', ',', 'I', 'decided', 'to', 'buy', 'up', 'and', 'purchased', 'an', 'HP', '49G.', ' ', 'What', 'a', 'mistake', '!', ' ', 'I', 'know', 'that', 'many', 'people', 'view', 'the', 'HP', '49', 'G', '(', 'now', '49G+', ')', 'as', 'the', 'flagship', 'of', 'the', 'HP', 'line', ',', 'but', 'for', 'me', 'that', 'was', 'a', 'disaster', '.', 'The', '49', 'G', 'may', 'be', 'powerful', ',', 'but', 'using', 'it', 'is', 'extremely', 'counterintuitive', '...', 'and', 'the', 'manual', 'was', 'sketchy', 'at', 'best', '.', ' ', 'The', '12C', ',', 'on', 'the', 'other', 'hand', ',', 'does', 'what', 'I', 'need', 'in', 'a', 'way', 'that', 'makes', 'good', 'sense', 'to', 'me', '.', 'If', 'you', 'are', 'looking', 'for', 'a', 'solid', ',', 'reliable', 'calculator', ',', 'the', 'HP12C', 'may', 'be', 'for', 'you', '.', ' ', 'It', \"'s\", 'programmable', '.', ' ', 'It', 'does', 'basic', 'statistics', 'well', ',', 'and', 'many', 'business', 'applications', 'too', '.', ' ', 'The', 'manual', 'makes', 'sense', ';', 'you', 'will', 'be', 'up', 'and', 'running', 'in', 'short', 'order', '.', \"I'm\", 'ready', 'to', 'set', 'my', '49', 'G', 'aside', 'and', 'move', 'back', 'to', 'my', 'old', 'friend', '.', ' ', 'I', 'did', \"n't\", 'even', 'have', 'to', 'replace', 'the', 'batteries', 'in', 'well', 'over', 'a', 'decade', 'of', 'use!HP', '12C', ',', 'I', \"'m\", 'coming', 'home', '!'], 'root_words': ['-PRON-', 'buy', '-PRON-', 'first', 'hp12c', 'in', 'about', '1984', 'or', 'so', ',', 'and', '-PRON-', 'serve', '-PRON-', 'faithfully', 'until', '2002', 'when', '-PRON-', 'lose', '-PRON-', 'while', 'travel', '.', ' ', '-PRON-', 'search', 'for', 'another', 'one', 'to', 'replace', '-PRON-', ',', 'but', 'find', 'one', 'difficult', 'to', 'come', 'by', 'in', '-PRON-', 'area', '.', ' ', 'so', ',', '-PRON-', 'decide', 'to', 'buy', 'up', 'and', 'purchase', 'an', 'HP', '49g.', ' ', 'what', 'a', 'mistake', '!', ' ', '-PRON-', 'know', 'that', 'many', 'people', 'view', 'the', 'HP', '49', 'G', '(', 'now', '49g+', ')', 'as', 'the', 'flagship', 'of', 'the', 'HP', 'line', ',', 'but', 'for', '-PRON-', 'that', 'be', 'a', 'disaster', '.', 'the', '49', 'g', 'may', 'be', 'powerful', ',', 'but', 'use', '-PRON-', 'be', 'extremely', 'counterintuitive', '...', 'and', 'the', 'manual', 'be', 'sketchy', 'at', 'good', '.', ' ', 'the', '12c', ',', 'on', 'the', 'other', 'hand', ',', 'do', 'what', '-PRON-', 'need', 'in', 'a', 'way', 'that', 'make', 'good', 'sense', 'to', '-PRON-', '.', 'if', '-PRON-', 'be', 'look', 'for', 'a', 'solid', ',', 'reliable', 'calculator', ',', 'the', 'hp12c', 'may', 'be', 'for', '-PRON-', '.', ' ', '-PRON-', 'be', 'programmable', '.', ' ', '-PRON-', 'do', 'basic', 'statistic', 'well', ',', 'and', 'many', 'business', 'application', 'too', '.', ' ', 'the', 'manual', 'make', 'sense', ';', '-PRON-', 'will', 'be', 'up', 'and', 'run', 'in', 'short', 'order', '.', \"i'm\", 'ready', 'to', 'set', '-PRON-', '49', 'g', 'aside', 'and', 'move', 'back', 'to', '-PRON-', 'old', 'friend', '.', ' ', '-PRON-', 'do', 'not', 'even', 'have', 'to', 'replace', 'the', 'battery', 'in', 'well', 'over', 'a', 'decade', 'of', 'use!hp', '12c', ',', '-PRON-', 'be', 'come', 'home', '!'], 'pos': ['PRON', 'VERB', 'DET', 'ADJ', 'NOUN', 'ADP', 'ADV', 'NUM', 'CCONJ', 'ADV', 'PUNCT', 'CCONJ', 'PRON', 'VERB', 'PRON', 'ADV', 'ADP', 'NUM', 'ADV', 'PRON', 'VERB', 'PRON', 'ADP', 'VERB', 'PUNCT', 'SPACE', 'PRON', 'VERB', 'ADP', 'DET', 'NOUN', 'PART', 'VERB', 'PRON', 'PUNCT', 'CCONJ', 'VERB', 'NUM', 'ADJ', 'PART', 'VERB', 'PART', 'ADP', 'DET', 'NOUN', 'PUNCT', 'SPACE', 'ADV', 'PUNCT', 'PRON', 'VERB', 'PART', 'VERB', 'PART', 'CCONJ', 'VERB', 'DET', 'PROPN', 'NUM', 'SPACE', 'DET', 'DET', 'NOUN', 'PUNCT', 'SPACE', 'PRON', 'VERB', 'ADP', 'ADJ', 'NOUN', 'VERB', 'DET', 'PROPN', 'NUM', 'PROPN', 'PUNCT', 'ADV', 'NUM', 'PUNCT', 'ADP', 'DET', 'NOUN', 'ADP', 'DET', 'PROPN', 'NOUN', 'PUNCT', 'CCONJ', 'ADP', 'PRON', 'DET', 'VERB', 'DET', 'NOUN', 'PUNCT', 'DET', 'NUM', 'NOUN', 'VERB', 'VERB', 'ADJ', 'PUNCT', 'CCONJ', 'VERB', 'PRON', 'VERB', 'ADV', 'ADJ', 'PUNCT', 'CCONJ', 'DET', 'NOUN', 'VERB', 'ADJ', 'ADP', 'ADJ', 'PUNCT', 'SPACE', 'DET', 'NUM', 'PUNCT', 'ADP', 'DET', 'ADJ', 'NOUN', 'PUNCT', 'VERB', 'PRON', 'PRON', 'VERB', 'ADP', 'DET', 'NOUN', 'DET', 'VERB', 'ADJ', 'NOUN', 'ADP', 'PRON', 'PUNCT', 'ADP', 'PRON', 'VERB', 'VERB', 'ADP', 'DET', 'ADJ', 'PUNCT', 'ADJ', 'NOUN', 'PUNCT', 'DET', 'NOUN', 'VERB', 'VERB', 'ADP', 'PRON', 'PUNCT', 'SPACE', 'PRON', 'VERB', 'ADJ', 'PUNCT', 'SPACE', 'PRON', 'VERB', 'ADJ', 'NOUN', 'ADV', 'PUNCT', 'CCONJ', 'ADJ', 'NOUN', 'NOUN', 'ADV', 'PUNCT', 'SPACE', 'DET', 'NOUN', 'VERB', 'NOUN', 'PUNCT', 'PRON', 'VERB', 'VERB', 'ADV', 'CCONJ', 'VERB', 'ADP', 'ADJ', 'NOUN', 'PUNCT', 'PRON', 'ADJ', 'PART', 'VERB', 'DET', 'NUM', 'NOUN', 'ADV', 'CCONJ', 'VERB', 'ADV', 'ADP', 'DET', 'ADJ', 'NOUN', 'PUNCT', 'SPACE', 'PRON', 'VERB', 'ADV', 'ADV', 'VERB', 'PART', 'VERB', 'DET', 'NOUN', 'ADP', 'ADV', 'ADP', 'DET', 'NOUN', 'ADP', 'ADJ', 'NUM', 'PUNCT', 'PRON', 'VERB', 'VERB', 'ADV', 'PUNCT'], 'dependency': ['nsubj', 'ROOT', 'poss', 'amod', 'dobj', 'prep', 'advmod', 'pobj', 'cc', 'conj', 'punct', 'cc', 'nsubj', 'conj', 'dobj', 'advmod', 'prep', 'pobj', 'advmod', 'nsubj', 'relcl', 'dobj', 'mark', 'advcl', 'punct', '', 'nsubj', 'ROOT', 'prep', 'det', 'pobj', 'aux', 'relcl', 'dobj', 'punct', 'cc', 'conj', 'nsubj', 'ccomp', 'aux', 'xcomp', 'prt', 'prep', 'poss', 'pobj', 'punct', '', 'advmod', 'punct', 'nsubj', 'ROOT', 'aux', 'xcomp', 'prt', 'cc', 'conj', 'det', 'compound', 'dobj', '', 'det', 'det', 'ROOT', 'punct', '', 'nsubj', 'ROOT', 'mark', 'amod', 'nsubj', 'ccomp', 'det', 'nmod', 'nummod', 'dobj', 'punct', 'advmod', 'appos', 'punct', 'prep', 'det', 'pobj', 'prep', 'det', 'compound', 'pobj', 'punct', 'cc', 'prep', 'pobj', 'nsubj', 'conj', 'det', 'attr', 'punct', 'det', 'nummod', 'nsubj', 'aux', 'ROOT', 'acomp', 'punct', 'cc', 'csubj', 'dobj', 'conj', 'advmod', 'acomp', 'punct', 'cc', 'det', 'nsubj', 'conj', 'acomp', 'advmod', 'advmod', 'punct', '', 'det', 'nsubj', 'punct', 'prep', 'det', 'amod', 'pobj', 'punct', 'ROOT', 'dobj', 'nsubj', 'ccomp', 'prep', 'det', 'pobj', 'nsubj', 'relcl', 'amod', 'dobj', 'dative', 'pobj', 'punct', 'mark', 'nsubj', 'aux', 'advcl', 'prep', 'det', 'amod', 'punct', 'amod', 'pobj', 'punct', 'det', 'nsubj', 'aux', 'ROOT', 'prep', 'pobj', 'punct', '', 'nsubj', 'ROOT', 'acomp', 'punct', '', 'nsubj', 'ROOT', 'amod', 'dobj', 'advmod', 'punct', 'cc', 'amod', 'compound', 'conj', 'advmod', 'punct', '', 'det', 'nsubj', 'ccomp', 'dobj', 'punct', 'nsubj', 'aux', 'ROOT', 'advmod', 'cc', 'conj', 'prep', 'amod', 'pobj', 'punct', 'nsubj', 'ROOT', 'aux', 'xcomp', 'poss', 'nummod', 'dobj', 'advmod', 'cc', 'conj', 'advmod', 'prep', 'poss', 'amod', 'pobj', 'punct', '', 'nsubj', 'aux', 'neg', 'advmod', 'ccomp', 'aux', 'xcomp', 'det', 'dobj', 'prep', 'advmod', 'prep', 'det', 'pobj', 'prep', 'amod', 'pobj', 'punct', 'nsubj', 'aux', 'ROOT', 'advmod', 'punct'], 'noun': [HP12C, one, area, HP, mistake, people, HP, G, flagship, HP, line, disaster, G, manual, hand, way, sense, calculator, HP12C, statistics, business, applications, manual, sense, order, G, friend, batteries, decade]}\n"
          ],
          "name": "stdout"
        }
      ]
    },
    {
      "cell_type": "code",
      "metadata": {
        "id": "f8cUUhYdMtKB",
        "colab_type": "code",
        "outputId": "2f50d8d6-a61b-44ac-ecb0-5a302265f68f",
        "colab": {
          "base_uri": "https://localhost:8080/",
          "height": 1000
        }
      },
      "source": [
        "spacy_pipeline(\"Hello I like swimming, dancing and reading books. I am an engineering student, but still love biology.\")"
      ],
      "execution_count": 0,
      "outputs": [
        {
          "output_type": "execute_result",
          "data": {
            "text/plain": [
              "{'dependency': ['intj',\n",
              "  'nsubj',\n",
              "  'aux',\n",
              "  'ROOT',\n",
              "  'cc',\n",
              "  'conj',\n",
              "  'cc',\n",
              "  'conj',\n",
              "  'det',\n",
              "  'dobj',\n",
              "  'punct',\n",
              "  'intj',\n",
              "  'punct',\n",
              "  'nsubj',\n",
              "  'ROOT',\n",
              "  'acomp',\n",
              "  'cc',\n",
              "  'aux',\n",
              "  'conj',\n",
              "  'predet',\n",
              "  'det',\n",
              "  'dobj',\n",
              "  'advmod',\n",
              "  'punct'],\n",
              " 'noun': [book, things],\n",
              " 'pos': ['INTJ',\n",
              "  'PRON',\n",
              "  'VERB',\n",
              "  'VERB',\n",
              "  'CCONJ',\n",
              "  'VERB',\n",
              "  'CCONJ',\n",
              "  'VERB',\n",
              "  'DET',\n",
              "  'NOUN',\n",
              "  'PUNCT',\n",
              "  'INTJ',\n",
              "  'PUNCT',\n",
              "  'PRON',\n",
              "  'VERB',\n",
              "  'ADJ',\n",
              "  'CCONJ',\n",
              "  'VERB',\n",
              "  'VERB',\n",
              "  'DET',\n",
              "  'DET',\n",
              "  'NOUN',\n",
              "  'ADV',\n",
              "  'PUNCT'],\n",
              " 'root_words': ['hello',\n",
              "  '-PRON-',\n",
              "  'be',\n",
              "  'jump',\n",
              "  'and',\n",
              "  'swim',\n",
              "  'and',\n",
              "  'read',\n",
              "  'a',\n",
              "  'book',\n",
              "  '.',\n",
              "  'yes',\n",
              "  ',',\n",
              "  '-PRON-',\n",
              "  'be',\n",
              "  'extraordinary',\n",
              "  'and',\n",
              "  'can',\n",
              "  'do',\n",
              "  'all',\n",
              "  'these',\n",
              "  'thing',\n",
              "  'together',\n",
              "  '.'],\n",
              " 'words': ['Hello',\n",
              "  'I',\n",
              "  'am',\n",
              "  'jumping',\n",
              "  'and',\n",
              "  'swimming',\n",
              "  'and',\n",
              "  'reading',\n",
              "  'a',\n",
              "  'book',\n",
              "  '.',\n",
              "  'Yes',\n",
              "  ',',\n",
              "  'I',\n",
              "  'am',\n",
              "  'extraordinary',\n",
              "  'and',\n",
              "  'can',\n",
              "  'do',\n",
              "  'all',\n",
              "  'these',\n",
              "  'things',\n",
              "  'together',\n",
              "  '.']}"
            ]
          },
          "metadata": {
            "tags": []
          },
          "execution_count": 8
        }
      ]
    },
    {
      "cell_type": "code",
      "metadata": {
        "id": "8UnMK24kNcQ5",
        "colab_type": "code",
        "colab": {}
      },
      "source": [
        ""
      ],
      "execution_count": 0,
      "outputs": []
    }
  ]
}